{
  "cells": [
    {
      "cell_type": "markdown",
      "metadata": {
        "id": "view-in-github",
        "colab_type": "text"
      },
      "source": [
        "<a href=\"https://colab.research.google.com/github/AlikaFelica/malika/blob/main/Untitled0.ipynb\" target=\"_parent\"><img src=\"https://colab.research.google.com/assets/colab-badge.svg\" alt=\"Open In Colab\"/></a>"
      ]
    },
    {
      "cell_type": "code",
      "execution_count": null,
      "metadata": {
        "id": "sZ510ea-o_nE",
        "colab": {
          "base_uri": "https://localhost:8080/"
        },
        "outputId": "39bb4fe1-b281-48ef-c2b1-45ebd7076e14"
      },
      "outputs": [
        {
          "output_type": "stream",
          "name": "stdout",
          "text": [
            "Drive already mounted at /content/drive; to attempt to forcibly remount, call drive.mount(\"/content/drive\", force_remount=True).\n"
          ]
        }
      ],
      "source": [
        "from google.colab import drive\n",
        "drive.mount('/content/drive')"
      ]
    },
    {
      "cell_type": "code",
      "execution_count": null,
      "metadata": {
        "colab": {
          "base_uri": "https://localhost:8080/"
        },
        "id": "iVTaxGyYqXgD",
        "outputId": "e93b6e01-84f3-40e1-fd9f-519cf6236c54"
      },
      "outputs": [
        {
          "output_type": "stream",
          "name": "stdout",
          "text": [
            "/content/drive/My Drive/Colab Notebooks\n"
          ]
        }
      ],
      "source": [
        "cd /content/drive/My Drive/Colab Notebooks"
      ]
    },
    {
      "cell_type": "code",
      "execution_count": null,
      "metadata": {
        "id": "KwJrEP_MtrgE"
      },
      "outputs": [],
      "source": [
        "# pip install pyTelegramBotAPI\n",
        "import telebot\n",
        "from telebot import types\n",
        "\n",
        "token = \"5399763635:AAGZEBdD2ztYB4zrbxfq8XdYL2PTlJTR190\"\n",
        "\n",
        "bot = telebot.TeleBot(token, parse_mode = 'html')\n",
        "\n",
        "# Обрабатываем команду /start\n",
        "@bot.message_handler(commands=['start'])\n",
        "def start(message):\n",
        "   m = f'Привет, <b> {message.from_user.first_name} </b>'\n",
        "   bot.send_message(message.chat.id, m, parse_mode='html')  \n",
        "\n",
        "# Обрабатываем команду /help и создаем постоянные кнопки в окне снизу чата с ботом\n",
        "@bot.message_handler(commands = ['help'])\n",
        "def display_buttons(message):\n",
        "    markup = types.ReplyKeyboardMarkup(resize_keyboard=True, row_width=1)\n",
        "    scratch = types.KeyboardButton('Ролик Scratch')\n",
        "    website = types.KeyboardButton('Веб-сайт проекта')\n",
        "    facts = types.KeyboardButton('Факты об Аральском море')\n",
        "    about_us = types.KeyboardButton('О нас')\n",
        "    tracker = types.KeyboardButton('Бесплатный трекер эко-привычек')\n",
        "    markup.add(scratch, website, about_us, facts, tracker )\n",
        "    bot.send_message(message.chat.id, \"Здесь ты можешь найти всю информацию\", reply_markup=markup)\n",
        "\n",
        "# Обрабатываем команды, когда пользователь присылает боту картинку\n",
        "@bot.message_handler(content_types=['photo'])\n",
        "def get_photo_from_user(message):\n",
        "    bot.send_message(message.chat.id, \"Ух ты, какое красивое фото!\")\n",
        "\n",
        "# Обрабатываем текст, приходящий от пользователя\n",
        "@bot.message_handler(content_types=['text'])\n",
        "def get_user_text(message):\n",
        "    if message.text.lower() == \"hello\":\n",
        "        bot.send_message(message.chat.id, \"Добро пожаловать в Central Asia Water!\", parse_mode = 'html')\n",
        "        \n",
        "    # При вводе текста photo, бот подгружает из папки картинку под названием '1617450766.jpg',\n",
        "    # сохраняет ее в переменную photo и отправляет пользователю как ответ\n",
        "    # ВНИМАНИЕ: чтобы эта часть кода работала, надо, чтобы и этот файл с кодом, и картинка, находились в одной папке\n",
        "    elif message.text.lower() == \"бесплатный трекер эко-привычек\":\n",
        "        photo = open('Central asia water.png', 'rb')\n",
        "        bot.send_photo(message.chat.id, photo, parse_mode = 'html')   \n",
        "\n",
        "    elif message.text.lower() == \"факты об аральском море\" :\n",
        "       c1 = \"1. Название Аральского моря происходит из местного диалекта, который в переводе буквально означает - море островов🌏.\"\n",
        "       c2 = \"2. До начала снижения уровня воды Аральское море находилось на 4-м месте, в списке крупнейших озер на планете - около 68 000 км.\"\n",
        "       c3 = \"3. В 2003г. Южное Аральское море разделилось на западную и восточную части.\"\n",
        "       c4 = \"4. Усыхание моря привело к изменениям местного климата: 🌅лето стало более сухим и жарким, а ⛄зима - более долгой и холодной.\"\n",
        "       c5 = \"5. Гладь моря - это растворенный ультрамарин. Такие синие воды 🌊 встречаются крайне редко. Не удивительно, что в русских документах Арал именовался Синим морем.\"\n",
        "       text1 = c1\n",
        "       text2 = c2\n",
        "       text3 = c3\n",
        "       text4 = c4\n",
        "       text5 = c5\n",
        "       bot.send_message(message.chat.id, text1 ) \n",
        "       bot.send_message(message.chat.id, text2 )\n",
        "       bot.send_message(message.chat.id, text3 )\n",
        "       bot.send_message(message.chat.id, text4 )\n",
        "       bot.send_message(message.chat.id, text5 )\n",
        "  \n",
        "    # При нажатии на кнопку 'Ролик Scratch' это трансформируется в текст, и в ответ бот присылает в чат окно с ссылкой на сайт Scratch\n",
        "    elif message.text.lower() == \"ролик scratch\":\n",
        "        markup = types.InlineKeyboardMarkup()\n",
        "        markup.add(types.InlineKeyboardButton(text='Scratch', url=\"https://scratch.mit.edu/projects/683683827\") )\n",
        "        bot.send_message(message.chat.id, \"ролик в Scratch\", reply_markup=markup)\n",
        "\n",
        "\n",
        "    # При нажатии на кнопку 'Веб-сайт проекта' это трансформируется в текст, и в ответ бот присылает в чат окно с ссылкой на сайт Glith\n",
        "    elif message.text.lower() == \"веб-сайт проекта\":\n",
        "        markup = types.InlineKeyboardMarkup()\n",
        "        markup.add(types.InlineKeyboardButton(text='Glitch', url=\"https://horse-broken-kick.glitch.me\") )\n",
        "        bot.send_message(message.chat.id, \"Веб-сайт проекта\", reply_markup=markup)   \n",
        "\n",
        "         # При нажатии на кнопку 'О нас' это трансформируется в текст, \n",
        "    elif message.text.lower() == \"о нас\" :\n",
        "        c3 = \"Наш проект направлен на информирование жителей стран Центральной Азии о проблемах водных ресурсов.\"\n",
        "        c4 = \" Разработчиками проекта являются:  \"\n",
        "        c5 = \"Бегимай: Добрый день! Меня зовут Акбарова Бегимай:) Я увлекаюсь волонтерством больше года. Я очень универсальный человек 🌈 я как приправа, что дополняет любую еду. На данный момент мне 16 лет, обучаюсь в 10 классе.\"\n",
        "        c6 = \"Адина: Всем привет! Мену зовут Баязитова Адина и мне 16, я занимаюсь проектами и научными работами обожаю книги и создавать!\"\n",
        "        c7 = \"Малика: Приветствую всех, меня зовут Асылбекова Малика и мне 17. Я ученица НИШ ФМН г.Семей. Увлекаюсь дебатами, волонтерством и программированием!\"\n",
        "        text1 = c3 + c4\n",
        "        text2 = c5\n",
        "        text3 = c6\n",
        "        text4 = c7\n",
        "        bot.send_message(message.chat.id, text1)\n",
        "        bot.send_message(message.chat.id, text2)\n",
        "        bot.send_message(message.chat.id, text3)\n",
        "        bot.send_message(message.chat.id, text4)\n",
        "\n",
        "    else:\n",
        "      bot.send_message(message.chat.id,\"Я тебя не понимаю\",parse_mode = 'html')\n",
        "      \n",
        "bot.polling(none_stop=True)"
      ]
    },
    {
      "cell_type": "code",
      "execution_count": null,
      "metadata": {
        "colab": {
          "base_uri": "https://localhost:8080/"
        },
        "id": "0aa2jJwMBrgD",
        "outputId": "c51b711b-8396-43c8-f2ee-dd0f5f04aa83"
      },
      "outputs": [
        {
          "output_type": "stream",
          "name": "stdout",
          "text": [
            "Collecting pyTelegramBotAPI\n",
            "  Downloading pyTelegramBotAPI-4.5.0.tar.gz (156 kB)\n",
            "\u001b[?25l\r\u001b[K     |██                              | 10 kB 26.1 MB/s eta 0:00:01\r\u001b[K     |████▏                           | 20 kB 14.8 MB/s eta 0:00:01\r\u001b[K     |██████▎                         | 30 kB 10.0 MB/s eta 0:00:01\r\u001b[K     |████████▍                       | 40 kB 8.9 MB/s eta 0:00:01\r\u001b[K     |██████████▌                     | 51 kB 4.4 MB/s eta 0:00:01\r\u001b[K     |████████████▋                   | 61 kB 5.2 MB/s eta 0:00:01\r\u001b[K     |██████████████▊                 | 71 kB 5.6 MB/s eta 0:00:01\r\u001b[K     |████████████████▉               | 81 kB 5.7 MB/s eta 0:00:01\r\u001b[K     |███████████████████             | 92 kB 6.3 MB/s eta 0:00:01\r\u001b[K     |█████████████████████           | 102 kB 4.9 MB/s eta 0:00:01\r\u001b[K     |███████████████████████         | 112 kB 4.9 MB/s eta 0:00:01\r\u001b[K     |█████████████████████████▏      | 122 kB 4.9 MB/s eta 0:00:01\r\u001b[K     |███████████████████████████▎    | 133 kB 4.9 MB/s eta 0:00:01\r\u001b[K     |█████████████████████████████▍  | 143 kB 4.9 MB/s eta 0:00:01\r\u001b[K     |███████████████████████████████▌| 153 kB 4.9 MB/s eta 0:00:01\r\u001b[K     |████████████████████████████████| 156 kB 4.9 MB/s \n",
            "\u001b[?25hRequirement already satisfied: requests in /usr/local/lib/python3.7/dist-packages (from pyTelegramBotAPI) (2.23.0)\n",
            "Requirement already satisfied: chardet<4,>=3.0.2 in /usr/local/lib/python3.7/dist-packages (from requests->pyTelegramBotAPI) (3.0.4)\n",
            "Requirement already satisfied: urllib3!=1.25.0,!=1.25.1,<1.26,>=1.21.1 in /usr/local/lib/python3.7/dist-packages (from requests->pyTelegramBotAPI) (1.24.3)\n",
            "Requirement already satisfied: certifi>=2017.4.17 in /usr/local/lib/python3.7/dist-packages (from requests->pyTelegramBotAPI) (2021.10.8)\n",
            "Requirement already satisfied: idna<3,>=2.5 in /usr/local/lib/python3.7/dist-packages (from requests->pyTelegramBotAPI) (2.10)\n",
            "Building wheels for collected packages: pyTelegramBotAPI\n",
            "  Building wheel for pyTelegramBotAPI (setup.py) ... \u001b[?25l\u001b[?25hdone\n",
            "  Created wheel for pyTelegramBotAPI: filename=pyTelegramBotAPI-4.5.0-py3-none-any.whl size=136736 sha256=5ba4c624809750df633830e2ef31d62679c3ae1324876f5cc24cc27871bc4e36\n",
            "  Stored in directory: /root/.cache/pip/wheels/46/b8/65/bfdbfcbe272acf9de269d7c4edcd40da0cca514c66483923e6\n",
            "Successfully built pyTelegramBotAPI\n",
            "Installing collected packages: pyTelegramBotAPI\n",
            "Successfully installed pyTelegramBotAPI-4.5.0\n"
          ]
        }
      ],
      "source": [
        "pip install pyTelegramBotAPI"
      ]
    }
  ],
  "metadata": {
    "colab": {
      "name": "Untitled0.ipynb",
      "provenance": [],
      "authorship_tag": "ABX9TyPyYFAQLgouJUlr+gDHFrRp",
      "include_colab_link": true
    },
    "kernelspec": {
      "display_name": "Python 3",
      "name": "python3"
    },
    "language_info": {
      "name": "python"
    }
  },
  "nbformat": 4,
  "nbformat_minor": 0
}