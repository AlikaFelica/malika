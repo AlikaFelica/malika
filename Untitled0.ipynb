{
  "cells": [
    {
      "cell_type": "markdown",
      "metadata": {
        "id": "view-in-github",
        "colab_type": "text"
      },
      "source": [
        "<a href=\"https://colab.research.google.com/github/AlikaFelica/malika/blob/main/Untitled0.ipynb\" target=\"_parent\"><img src=\"https://colab.research.google.com/assets/colab-badge.svg\" alt=\"Open In Colab\"/></a>"
      ]
    },
    {
      "cell_type": "code",
      "execution_count": null,
      "metadata": {
        "colab": {
          "base_uri": "https://localhost:8080/"
        },
        "id": "sZ510ea-o_nE",
        "outputId": "7a99e0b0-b3d3-4f74-ed75-5a85eb322ef7"
      },
      "outputs": [
        {
          "name": "stdout",
          "output_type": "stream",
          "text": [
            "Mounted at /content/drive\n"
          ]
        }
      ],
      "source": [
        "from google.colab import drive\n",
        "drive.mount('/content/drive')"
      ]
    },
    {
      "cell_type": "code",
      "execution_count": null,
      "metadata": {
        "colab": {
          "base_uri": "https://localhost:8080/"
        },
        "id": "iVTaxGyYqXgD",
        "outputId": "3662106e-07a4-4b86-a602-8f989a3663fe"
      },
      "outputs": [
        {
          "name": "stdout",
          "output_type": "stream",
          "text": [
            "/content/drive/My Drive/Colab Notebooks\n"
          ]
        }
      ],
      "source": [
        "cd /content/drive/My Drive/Colab Notebooks"
      ]
    },
    {
      "cell_type": "code",
      "execution_count": null,
      "metadata": {
        "colab": {
          "background_save": true
        },
        "id": "KwJrEP_MtrgE",
        "outputId": "fa52d8eb-d4f4-429c-8609-6bd4437572d7"
      },
      "outputs": [
        {
          "ename": "FileNotFoundError",
          "evalue": "ignored",
          "output_type": "error",
          "traceback": [
            "\u001b[0;31m---------------------------------------------------------------------------\u001b[0m",
            "\u001b[0;31mFileNotFoundError\u001b[0m                         Traceback (most recent call last)",
            "\u001b[0;32m<ipython-input-3-8d9f70f24de6>\u001b[0m in \u001b[0;36m<module>\u001b[0;34m()\u001b[0m\n\u001b[1;32m     92\u001b[0m       \u001b[0mbot\u001b[0m\u001b[0;34m.\u001b[0m\u001b[0msend_message\u001b[0m\u001b[0;34m(\u001b[0m\u001b[0mmessage\u001b[0m\u001b[0;34m.\u001b[0m\u001b[0mchat\u001b[0m\u001b[0;34m.\u001b[0m\u001b[0mid\u001b[0m\u001b[0;34m,\u001b[0m\u001b[0;34m\"Я тебя не понимаю\"\u001b[0m\u001b[0;34m,\u001b[0m\u001b[0mparse_mode\u001b[0m \u001b[0;34m=\u001b[0m \u001b[0;34m'html'\u001b[0m\u001b[0;34m)\u001b[0m\u001b[0;34m\u001b[0m\u001b[0;34m\u001b[0m\u001b[0m\n\u001b[1;32m     93\u001b[0m \u001b[0;34m\u001b[0m\u001b[0m\n\u001b[0;32m---> 94\u001b[0;31m \u001b[0mbot\u001b[0m\u001b[0;34m.\u001b[0m\u001b[0mpolling\u001b[0m\u001b[0;34m(\u001b[0m\u001b[0mnone_stop\u001b[0m\u001b[0;34m=\u001b[0m\u001b[0;32mTrue\u001b[0m\u001b[0;34m)\u001b[0m\u001b[0;34m\u001b[0m\u001b[0;34m\u001b[0m\u001b[0m\n\u001b[0m",
            "\u001b[0;32m/usr/local/lib/python3.7/dist-packages/telebot/__init__.py\u001b[0m in \u001b[0;36mpolling\u001b[0;34m(self, non_stop, skip_pending, interval, timeout, long_polling_timeout, allowed_updates, none_stop)\u001b[0m\n\u001b[1;32m    616\u001b[0m \u001b[0;34m\u001b[0m\u001b[0m\n\u001b[1;32m    617\u001b[0m         \u001b[0;32mif\u001b[0m \u001b[0mself\u001b[0m\u001b[0;34m.\u001b[0m\u001b[0mthreaded\u001b[0m\u001b[0;34m:\u001b[0m\u001b[0;34m\u001b[0m\u001b[0;34m\u001b[0m\u001b[0m\n\u001b[0;32m--> 618\u001b[0;31m             \u001b[0mself\u001b[0m\u001b[0;34m.\u001b[0m\u001b[0m__threaded_polling\u001b[0m\u001b[0;34m(\u001b[0m\u001b[0mnon_stop\u001b[0m\u001b[0;34m,\u001b[0m \u001b[0minterval\u001b[0m\u001b[0;34m,\u001b[0m \u001b[0mtimeout\u001b[0m\u001b[0;34m,\u001b[0m \u001b[0mlong_polling_timeout\u001b[0m\u001b[0;34m,\u001b[0m \u001b[0mallowed_updates\u001b[0m\u001b[0;34m)\u001b[0m\u001b[0;34m\u001b[0m\u001b[0;34m\u001b[0m\u001b[0m\n\u001b[0m\u001b[1;32m    619\u001b[0m         \u001b[0;32melse\u001b[0m\u001b[0;34m:\u001b[0m\u001b[0;34m\u001b[0m\u001b[0;34m\u001b[0m\u001b[0m\n\u001b[1;32m    620\u001b[0m             \u001b[0mself\u001b[0m\u001b[0;34m.\u001b[0m\u001b[0m__non_threaded_polling\u001b[0m\u001b[0;34m(\u001b[0m\u001b[0mnon_stop\u001b[0m\u001b[0;34m,\u001b[0m \u001b[0minterval\u001b[0m\u001b[0;34m,\u001b[0m \u001b[0mtimeout\u001b[0m\u001b[0;34m,\u001b[0m \u001b[0mlong_polling_timeout\u001b[0m\u001b[0;34m,\u001b[0m \u001b[0mallowed_updates\u001b[0m\u001b[0;34m)\u001b[0m\u001b[0;34m\u001b[0m\u001b[0;34m\u001b[0m\u001b[0m\n",
            "\u001b[0;32m/usr/local/lib/python3.7/dist-packages/telebot/__init__.py\u001b[0m in \u001b[0;36m__threaded_polling\u001b[0;34m(self, non_stop, interval, timeout, long_polling_timeout, allowed_updates)\u001b[0m\n\u001b[1;32m    678\u001b[0m                     \u001b[0mpolling_thread\u001b[0m\u001b[0;34m.\u001b[0m\u001b[0mclear_exceptions\u001b[0m\u001b[0;34m(\u001b[0m\u001b[0;34m)\u001b[0m   \u001b[0;31m#*\u001b[0m\u001b[0;34m\u001b[0m\u001b[0;34m\u001b[0m\u001b[0m\n\u001b[1;32m    679\u001b[0m                     \u001b[0mself\u001b[0m\u001b[0;34m.\u001b[0m\u001b[0mworker_pool\u001b[0m\u001b[0;34m.\u001b[0m\u001b[0mclear_exceptions\u001b[0m\u001b[0;34m(\u001b[0m\u001b[0;34m)\u001b[0m \u001b[0;31m#*\u001b[0m\u001b[0;34m\u001b[0m\u001b[0;34m\u001b[0m\u001b[0m\n\u001b[0;32m--> 680\u001b[0;31m                     \u001b[0;32mraise\u001b[0m \u001b[0me\u001b[0m\u001b[0;34m\u001b[0m\u001b[0;34m\u001b[0m\u001b[0m\n\u001b[0m\u001b[1;32m    681\u001b[0m                 \u001b[0;32melse\u001b[0m\u001b[0;34m:\u001b[0m\u001b[0;34m\u001b[0m\u001b[0;34m\u001b[0m\u001b[0m\n\u001b[1;32m    682\u001b[0m                     \u001b[0mpolling_thread\u001b[0m\u001b[0;34m.\u001b[0m\u001b[0mclear_exceptions\u001b[0m\u001b[0;34m(\u001b[0m\u001b[0;34m)\u001b[0m\u001b[0;34m\u001b[0m\u001b[0;34m\u001b[0m\u001b[0m\n",
            "\u001b[0;32m/usr/local/lib/python3.7/dist-packages/telebot/__init__.py\u001b[0m in \u001b[0;36m__threaded_polling\u001b[0;34m(self, non_stop, interval, timeout, long_polling_timeout, allowed_updates)\u001b[0m\n\u001b[1;32m    638\u001b[0m                 \u001b[0mor_event\u001b[0m\u001b[0;34m.\u001b[0m\u001b[0mwait\u001b[0m\u001b[0;34m(\u001b[0m\u001b[0;34m)\u001b[0m  \u001b[0;31m# wait for polling thread finish, polling thread error or thread pool error\u001b[0m\u001b[0;34m\u001b[0m\u001b[0;34m\u001b[0m\u001b[0m\n\u001b[1;32m    639\u001b[0m                 \u001b[0mpolling_thread\u001b[0m\u001b[0;34m.\u001b[0m\u001b[0mraise_exceptions\u001b[0m\u001b[0;34m(\u001b[0m\u001b[0;34m)\u001b[0m\u001b[0;34m\u001b[0m\u001b[0;34m\u001b[0m\u001b[0m\n\u001b[0;32m--> 640\u001b[0;31m                 \u001b[0mself\u001b[0m\u001b[0;34m.\u001b[0m\u001b[0mworker_pool\u001b[0m\u001b[0;34m.\u001b[0m\u001b[0mraise_exceptions\u001b[0m\u001b[0;34m(\u001b[0m\u001b[0;34m)\u001b[0m\u001b[0;34m\u001b[0m\u001b[0;34m\u001b[0m\u001b[0m\n\u001b[0m\u001b[1;32m    641\u001b[0m                 \u001b[0merror_interval\u001b[0m \u001b[0;34m=\u001b[0m \u001b[0;36m0.25\u001b[0m\u001b[0;34m\u001b[0m\u001b[0;34m\u001b[0m\u001b[0m\n\u001b[1;32m    642\u001b[0m             \u001b[0;32mexcept\u001b[0m \u001b[0mapihelper\u001b[0m\u001b[0;34m.\u001b[0m\u001b[0mApiException\u001b[0m \u001b[0;32mas\u001b[0m \u001b[0me\u001b[0m\u001b[0;34m:\u001b[0m\u001b[0;34m\u001b[0m\u001b[0;34m\u001b[0m\u001b[0m\n",
            "\u001b[0;32m/usr/local/lib/python3.7/dist-packages/telebot/util.py\u001b[0m in \u001b[0;36mraise_exceptions\u001b[0;34m(self)\u001b[0m\n\u001b[1;32m    141\u001b[0m     \u001b[0;32mdef\u001b[0m \u001b[0mraise_exceptions\u001b[0m\u001b[0;34m(\u001b[0m\u001b[0mself\u001b[0m\u001b[0;34m)\u001b[0m\u001b[0;34m:\u001b[0m\u001b[0;34m\u001b[0m\u001b[0;34m\u001b[0m\u001b[0m\n\u001b[1;32m    142\u001b[0m         \u001b[0;32mif\u001b[0m \u001b[0mself\u001b[0m\u001b[0;34m.\u001b[0m\u001b[0mexception_event\u001b[0m\u001b[0;34m.\u001b[0m\u001b[0mis_set\u001b[0m\u001b[0;34m(\u001b[0m\u001b[0;34m)\u001b[0m\u001b[0;34m:\u001b[0m\u001b[0;34m\u001b[0m\u001b[0;34m\u001b[0m\u001b[0m\n\u001b[0;32m--> 143\u001b[0;31m             \u001b[0;32mraise\u001b[0m \u001b[0mself\u001b[0m\u001b[0;34m.\u001b[0m\u001b[0mexception_info\u001b[0m\u001b[0;34m\u001b[0m\u001b[0;34m\u001b[0m\u001b[0m\n\u001b[0m\u001b[1;32m    144\u001b[0m \u001b[0;34m\u001b[0m\u001b[0m\n\u001b[1;32m    145\u001b[0m     \u001b[0;32mdef\u001b[0m \u001b[0mclear_exceptions\u001b[0m\u001b[0;34m(\u001b[0m\u001b[0mself\u001b[0m\u001b[0;34m)\u001b[0m\u001b[0;34m:\u001b[0m\u001b[0;34m\u001b[0m\u001b[0;34m\u001b[0m\u001b[0m\n",
            "\u001b[0;32m/usr/local/lib/python3.7/dist-packages/telebot/util.py\u001b[0m in \u001b[0;36mrun\u001b[0;34m(self)\u001b[0m\n\u001b[1;32m     87\u001b[0m                 \u001b[0mself\u001b[0m\u001b[0;34m.\u001b[0m\u001b[0mreceived_task_event\u001b[0m\u001b[0;34m.\u001b[0m\u001b[0mset\u001b[0m\u001b[0;34m(\u001b[0m\u001b[0;34m)\u001b[0m\u001b[0;34m\u001b[0m\u001b[0;34m\u001b[0m\u001b[0m\n\u001b[1;32m     88\u001b[0m \u001b[0;34m\u001b[0m\u001b[0m\n\u001b[0;32m---> 89\u001b[0;31m                 \u001b[0mtask\u001b[0m\u001b[0;34m(\u001b[0m\u001b[0;34m*\u001b[0m\u001b[0margs\u001b[0m\u001b[0;34m,\u001b[0m \u001b[0;34m**\u001b[0m\u001b[0mkwargs\u001b[0m\u001b[0;34m)\u001b[0m\u001b[0;34m\u001b[0m\u001b[0;34m\u001b[0m\u001b[0m\n\u001b[0m\u001b[1;32m     90\u001b[0m                 \u001b[0mlogger\u001b[0m\u001b[0;34m.\u001b[0m\u001b[0mdebug\u001b[0m\u001b[0;34m(\u001b[0m\u001b[0;34m\"Task complete\"\u001b[0m\u001b[0;34m)\u001b[0m\u001b[0;34m\u001b[0m\u001b[0;34m\u001b[0m\u001b[0m\n\u001b[1;32m     91\u001b[0m                 \u001b[0mself\u001b[0m\u001b[0;34m.\u001b[0m\u001b[0mdone_event\u001b[0m\u001b[0;34m.\u001b[0m\u001b[0mset\u001b[0m\u001b[0;34m(\u001b[0m\u001b[0;34m)\u001b[0m\u001b[0;34m\u001b[0m\u001b[0;34m\u001b[0m\u001b[0m\n",
            "\u001b[0;32m<ipython-input-3-8d9f70f24de6>\u001b[0m in \u001b[0;36mget_user_text\u001b[0;34m(message)\u001b[0m\n\u001b[1;32m     40\u001b[0m     \u001b[0;31m# ВНИМАНИЕ: чтобы эта часть кода работала, надо, чтобы и этот файл с кодом, и картинка, находились в одной папке\u001b[0m\u001b[0;34m\u001b[0m\u001b[0;34m\u001b[0m\u001b[0;34m\u001b[0m\u001b[0m\n\u001b[1;32m     41\u001b[0m     \u001b[0;32melif\u001b[0m \u001b[0mmessage\u001b[0m\u001b[0;34m.\u001b[0m\u001b[0mtext\u001b[0m\u001b[0;34m.\u001b[0m\u001b[0mlower\u001b[0m\u001b[0;34m(\u001b[0m\u001b[0;34m)\u001b[0m \u001b[0;34m==\u001b[0m \u001b[0;34m\"бесплатный трекер эко-привычек\"\u001b[0m\u001b[0;34m:\u001b[0m\u001b[0;34m\u001b[0m\u001b[0;34m\u001b[0m\u001b[0m\n\u001b[0;32m---> 42\u001b[0;31m         \u001b[0mphoto\u001b[0m \u001b[0;34m=\u001b[0m \u001b[0mopen\u001b[0m\u001b[0;34m(\u001b[0m\u001b[0;34m'Central asia water.png'\u001b[0m\u001b[0;34m,\u001b[0m \u001b[0;34m'rb'\u001b[0m\u001b[0;34m)\u001b[0m\u001b[0;34m\u001b[0m\u001b[0;34m\u001b[0m\u001b[0m\n\u001b[0m\u001b[1;32m     43\u001b[0m         \u001b[0mbot\u001b[0m\u001b[0;34m.\u001b[0m\u001b[0msend_photo\u001b[0m\u001b[0;34m(\u001b[0m\u001b[0mmessage\u001b[0m\u001b[0;34m.\u001b[0m\u001b[0mchat\u001b[0m\u001b[0;34m.\u001b[0m\u001b[0mid\u001b[0m\u001b[0;34m,\u001b[0m \u001b[0mphoto\u001b[0m\u001b[0;34m,\u001b[0m \u001b[0mparse_mode\u001b[0m \u001b[0;34m=\u001b[0m \u001b[0;34m'html'\u001b[0m\u001b[0;34m)\u001b[0m\u001b[0;34m\u001b[0m\u001b[0;34m\u001b[0m\u001b[0m\n\u001b[1;32m     44\u001b[0m \u001b[0;34m\u001b[0m\u001b[0m\n",
            "\u001b[0;31mFileNotFoundError\u001b[0m: [Errno 2] No such file or directory: 'Central asia water.png'"
          ]
        }
      ],
      "source": [
        "# pip install pyTelegramBotAPI\n",
        "import telebot\n",
        "from telebot import types\n",
        "\n",
        "token = \"5399763635:AAGZEBdD2ztYB4zrbxfq8XdYL2PTlJTR190\"\n",
        "\n",
        "bot = telebot.TeleBot(token, parse_mode = 'html')\n",
        "\n",
        "# Обрабатываем команду /start\n",
        "@bot.message_handler(commands=['start'])\n",
        "def start(message):\n",
        "   m = f'Привет, <b> {message.from_user.first_name} </b>'\n",
        "   bot.send_message(message.chat.id, m, parse_mode='html')  \n",
        "\n",
        "# Обрабатываем команду /help и создаем постоянные кнопки в окне снизу чата с ботом\n",
        "@bot.message_handler(commands = ['help'])\n",
        "def display_buttons(message):\n",
        "    markup = types.ReplyKeyboardMarkup(resize_keyboard=True, row_width=1)\n",
        "    scratch = types.KeyboardButton('Ролик Scratch')\n",
        "    website = types.KeyboardButton('Веб-сайт проекта')\n",
        "    facts = types.KeyboardButton('Факты об Аральском море')\n",
        "    about_us = types.KeyboardButton('О нас')\n",
        "    tracker = types.KeyboardButton('Бесплатный трекер эко-привычек')\n",
        "    markup.add(scratch, website, about_us, facts, tracker )\n",
        "    bot.send_message(message.chat.id, \"Здесь ты можешь найти всю информацию\", reply_markup=markup)\n",
        "\n",
        "# Обрабатываем команды, когда пользователь присылает боту картинку\n",
        "@bot.message_handler(content_types=['photo'])\n",
        "def get_photo_from_user(message):\n",
        "    bot.send_message(message.chat.id, \"Ух ты, какое красивое фото!\")\n",
        "\n",
        "# Обрабатываем текст, приходящий от пользователя\n",
        "@bot.message_handler(content_types=['text'])\n",
        "def get_user_text(message):\n",
        "    if message.text.lower() == \"hello\":\n",
        "        bot.send_message(message.chat.id, \"Добро пожаловать в Central Asia Water!\", parse_mode = 'html')\n",
        "        \n",
        "    # При вводе текста photo, бот подгружает из папки картинку под названием '1617450766.jpg',\n",
        "    # сохраняет ее в переменную photo и отправляет пользователю как ответ\n",
        "    # ВНИМАНИЕ: чтобы эта часть кода работала, надо, чтобы и этот файл с кодом, и картинка, находились в одной папке\n",
        "    elif message.text.lower() == \"бесплатный трекер эко-привычек\":\n",
        "        photo = open('Central asia water.png', 'rb')\n",
        "        bot.send_photo(message.chat.id, photo, parse_mode = 'html')   \n",
        "\n",
        "    elif message.text.lower() == \"факты об аральском море\" :\n",
        "       c1 = \"1. Название Аральского моря происходит из местного диалекта, который в переводе буквально означает - море островов🌏.\"\n",
        "       c2 = \"2. До начала снижения уровня воды Аральское море находилось на 4-м месте, в списке крупнейших озер на планете - около 68 000 км.\"\n",
        "       c3 = \"3. В 2003г. Южное Аральское море разделилось на западную и восточную части.\"\n",
        "       c4 = \"4. Усыхание моря привело к изменениям местного климата: 🌅лето стало более сухим и жарким, а ⛄зима - более долгой и холодной.\"\n",
        "       c5 = \"5. Гладь моря - это растворенный ультрамарин. Такие синие воды 🌊 встречаются крайне редко. Не удивительно, что в русских документах Арал именовался Синим морем.\"\n",
        "       text1 = c1\n",
        "       text2 = c2\n",
        "       text3 = c3\n",
        "       text4 = c4\n",
        "       text5 = c5\n",
        "       bot.send_message(message.chat.id, text1 ) \n",
        "       bot.send_message(message.chat.id, text2 )\n",
        "       bot.send_message(message.chat.id, text3 )\n",
        "       bot.send_message(message.chat.id, text4 )\n",
        "       bot.send_message(message.chat.id, text5 )\n",
        "  \n",
        "    # При нажатии на кнопку 'Ролик Scratch' это трансформируется в текст, и в ответ бот присылает в чат окно с ссылкой на сайт Scratch\n",
        "    elif message.text.lower() == \"ролик scratch\":\n",
        "        markup = types.InlineKeyboardMarkup()\n",
        "        markup.add(types.InlineKeyboardButton(text='Scratch', url=\"https://scratch.mit.edu/projects/683683827\") )\n",
        "        bot.send_message(message.chat.id, \"ролик в Scratch\", reply_markup=markup)\n",
        "\n",
        "\n",
        "    # При нажатии на кнопку 'Веб-сайт проекта' это трансформируется в текст, и в ответ бот присылает в чат окно с ссылкой на сайт Glith\n",
        "    elif message.text.lower() == \"веб-сайт проекта\":\n",
        "        markup = types.InlineKeyboardMarkup()\n",
        "        markup.add(types.InlineKeyboardButton(text='Glitch', url=\"https://horse-broken-kick.glitch.me\") )\n",
        "        bot.send_message(message.chat.id, \"Веб-сайт проекта\", reply_markup=markup)   \n",
        "\n",
        "         # При нажатии на кнопку 'О нас' это трансформируется в текст, \n",
        "    elif message.text.lower() == \"о нас\" :\n",
        "        c3 = \"Наш проект направлен на информирование жителей стран Центральной Азии о проблемах водных ресурсов.\"\n",
        "        c4 = \" Разработчиками проекта являются:  \"\n",
        "        c5 = \"Бегимай: Добрый день! Меня зовут Акбарова Бегимай:) Я увлекаюсь волонтерством больше года. Я очень универсальный человек 🌈 я как приправа, что дополняет любую еду. На данный момент мне 16 лет, обучаюсь в 10 классе.\"\n",
        "        c6 = \"Адина: Всем привет! Мену зовут Баязитова Адина и мне 16, я занимаюсь проектами и научными работами обожаю книги и создавать!\"\n",
        "        c7 = \"Малика: Приветствую всех, меня зовут Асылбекова Малика и мне 17. Я ученица НИШ ФМН г.Семей. Увлекаюсь дебатами, волонтерством и программированием!\"\n",
        "        text1 = c3 + c4\n",
        "        text2 = c5\n",
        "        text3 = c6\n",
        "        text4 = c7\n",
        "        bot.send_message(message.chat.id, text1)\n",
        "        bot.send_message(message.chat.id, text2)\n",
        "        bot.send_message(message.chat.id, text3)\n",
        "        bot.send_message(message.chat.id, text4)\n",
        "\n",
        "    else:\n",
        "      bot.send_message(message.chat.id,\"Я тебя не понимаю\",parse_mode = 'html')\n",
        "      \n",
        "bot.polling(none_stop=True)"
      ]
    },
    {
      "cell_type": "code",
      "execution_count": null,
      "metadata": {
        "colab": {
          "base_uri": "https://localhost:8080/"
        },
        "id": "0aa2jJwMBrgD",
        "outputId": "fb9a9409-b5aa-4e93-bd00-0cfb830f8eca"
      },
      "outputs": [
        {
          "name": "stdout",
          "output_type": "stream",
          "text": [
            "Collecting pyTelegramBotAPI\n",
            "  Downloading pyTelegramBotAPI-4.5.0.tar.gz (156 kB)\n",
            "\u001b[?25l\r\u001b[K     |██                              | 10 kB 18.5 MB/s eta 0:00:01\r\u001b[K     |████▏                           | 20 kB 16.1 MB/s eta 0:00:01\r\u001b[K     |██████▎                         | 30 kB 11.3 MB/s eta 0:00:01\r\u001b[K     |████████▍                       | 40 kB 9.7 MB/s eta 0:00:01\r\u001b[K     |██████████▌                     | 51 kB 4.9 MB/s eta 0:00:01\r\u001b[K     |████████████▋                   | 61 kB 5.7 MB/s eta 0:00:01\r\u001b[K     |██████████████▊                 | 71 kB 5.7 MB/s eta 0:00:01\r\u001b[K     |████████████████▉               | 81 kB 5.6 MB/s eta 0:00:01\r\u001b[K     |███████████████████             | 92 kB 6.2 MB/s eta 0:00:01\r\u001b[K     |█████████████████████           | 102 kB 5.3 MB/s eta 0:00:01\r\u001b[K     |███████████████████████         | 112 kB 5.3 MB/s eta 0:00:01\r\u001b[K     |█████████████████████████▏      | 122 kB 5.3 MB/s eta 0:00:01\r\u001b[K     |███████████████████████████▎    | 133 kB 5.3 MB/s eta 0:00:01\r\u001b[K     |█████████████████████████████▍  | 143 kB 5.3 MB/s eta 0:00:01\r\u001b[K     |███████████████████████████████▌| 153 kB 5.3 MB/s eta 0:00:01\r\u001b[K     |████████████████████████████████| 156 kB 5.3 MB/s \n",
            "\u001b[?25hRequirement already satisfied: requests in /usr/local/lib/python3.7/dist-packages (from pyTelegramBotAPI) (2.23.0)\n",
            "Requirement already satisfied: certifi>=2017.4.17 in /usr/local/lib/python3.7/dist-packages (from requests->pyTelegramBotAPI) (2021.10.8)\n",
            "Requirement already satisfied: idna<3,>=2.5 in /usr/local/lib/python3.7/dist-packages (from requests->pyTelegramBotAPI) (2.10)\n",
            "Requirement already satisfied: chardet<4,>=3.0.2 in /usr/local/lib/python3.7/dist-packages (from requests->pyTelegramBotAPI) (3.0.4)\n",
            "Requirement already satisfied: urllib3!=1.25.0,!=1.25.1,<1.26,>=1.21.1 in /usr/local/lib/python3.7/dist-packages (from requests->pyTelegramBotAPI) (1.24.3)\n",
            "Building wheels for collected packages: pyTelegramBotAPI\n",
            "  Building wheel for pyTelegramBotAPI (setup.py) ... \u001b[?25l\u001b[?25hdone\n",
            "  Created wheel for pyTelegramBotAPI: filename=pyTelegramBotAPI-4.5.0-py3-none-any.whl size=136736 sha256=17b3e7a839448d6093683478695ab7df7c78bc7b4eefddfdde48ba2e3dfb1f8c\n",
            "  Stored in directory: /root/.cache/pip/wheels/46/b8/65/bfdbfcbe272acf9de269d7c4edcd40da0cca514c66483923e6\n",
            "Successfully built pyTelegramBotAPI\n",
            "Installing collected packages: pyTelegramBotAPI\n",
            "Successfully installed pyTelegramBotAPI-4.5.0\n"
          ]
        }
      ],
      "source": [
        "pip install pyTelegramBotAPI"
      ]
    }
  ],
  "metadata": {
    "colab": {
      "name": "Untitled0.ipynb",
      "provenance": [],
      "authorship_tag": "ABX9TyPyYFAQLgouJUlr+gDHFrRp",
      "include_colab_link": true
    },
    "kernelspec": {
      "display_name": "Python 3",
      "name": "python3"
    },
    "language_info": {
      "name": "python"
    }
  },
  "nbformat": 4,
  "nbformat_minor": 0
}